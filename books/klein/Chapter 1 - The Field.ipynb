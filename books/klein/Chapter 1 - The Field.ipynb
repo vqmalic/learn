{
 "cells": [
  {
   "cell_type": "markdown",
   "metadata": {},
   "source": [
    "# Problem 1.5.1"
   ]
  },
  {
   "cell_type": "code",
   "execution_count": 18,
   "metadata": {},
   "outputs": [],
   "source": [
    "letter2bin = {}\n",
    "letters = 'ABCDEFGHIJKLMNOPQRSTUVWXYZ '\n",
    "for i in range(27):\n",
    "    letter2bin[letters[i]] = i\n",
    "bin2letter = {v:k for k, v in letter2bin.items()}"
   ]
  },
  {
   "cell_type": "code",
   "execution_count": 19,
   "metadata": {},
   "outputs": [],
   "source": [
    "string = [\n",
    "    0b10101,\n",
    "    0b00100,\n",
    "    0b10101,\n",
    "    0b01011,\n",
    "    0b11001,\n",
    "    0b00011,\n",
    "    0b01011,\n",
    "    0b10101,\n",
    "    0b00100,\n",
    "    0b11001,\n",
    "    0b11010\n",
    "]"
   ]
  },
  {
   "cell_type": "code",
   "execution_count": 29,
   "metadata": {},
   "outputs": [
    {
     "name": "stdout",
     "output_type": "stream",
     "text": [
      "0 0b0 VEVLZDLVEZ \n",
      "1 0b1 UFUKYCKUFY#\n",
      "2 0b10 XGXJ#BJXG#Y\n",
      "3 0b11 WHWI AIWH Z\n",
      "4 0b100 RARP#HPRA##\n",
      "5 0b101 QBQO#GOQB##\n",
      "6 0b110 TCTN#FNTC##\n",
      "7 0b111 SDSM#EMSD##\n",
      "8 0b1000 #M#DRLD#MRS\n",
      "9 0b1001 #N#CQKC#NQT\n",
      "10 0b1010 #O#BTJB#OTQ\n",
      "11 0b1011 #P#ASIA#PSR\n",
      "12 0b1100 ZIZHVPHZIVW\n",
      "13 0b1101 YJYGUOGYJUX\n",
      "14 0b1110 #K#FXNF#KXU\n",
      "15 0b1111  L EWME LWV\n",
      "16 0b10000 FUF#JT#FUJK\n",
      "17 0b10001 EVE IS EVIL\n",
      "18 0b10010 HWHZLRZHWLI\n",
      "19 0b10011 GXGYKQYGXKJ\n",
      "20 0b10100 BQB#NX#BQNO\n",
      "21 0b10101 ARA#MW#ARMP\n",
      "22 0b10110 DSD#PV#DSPM\n",
      "23 0b10111 CTC#OU#CTON\n",
      "24 0b11000 N#NTB#TN#BC\n",
      "25 0b11001 M#MSA SM#AD\n",
      "26 0b11010 P#PRDZRP#DA\n",
      "27 0b11011 O#OQCYQO#CB\n",
      "28 0b11100 JYJXF#XJYFG\n",
      "29 0b11101 IZIWE#WIZEH\n",
      "30 0b11110 L LVH#VL HE\n",
      "31 0b11111 K#KUG#UK#GF\n"
     ]
    }
   ],
   "source": [
    "for key in range(32):\n",
    "    out = []\n",
    "    for s in string:\n",
    "        out.append(key ^ s)\n",
    "    print(key, bin(key), \"\".join([bin2letter[x] if x in bin2letter else '#' for x in out]))"
   ]
  },
  {
   "cell_type": "markdown",
   "metadata": {},
   "source": [
    "They binary key is `10001` and the message is `EVE IS EVIL`."
   ]
  }
 ],
 "metadata": {
  "kernelspec": {
   "display_name": "Python 3",
   "language": "python",
   "name": "python3"
  },
  "language_info": {
   "codemirror_mode": {
    "name": "ipython",
    "version": 3
   },
   "file_extension": ".py",
   "mimetype": "text/x-python",
   "name": "python",
   "nbconvert_exporter": "python",
   "pygments_lexer": "ipython3",
   "version": "3.5.2"
  }
 },
 "nbformat": 4,
 "nbformat_minor": 2
}
