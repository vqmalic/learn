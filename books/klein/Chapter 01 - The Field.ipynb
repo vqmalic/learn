{
 "cells": [
  {
   "cell_type": "markdown",
   "metadata": {},
   "source": [
    "# 1.1 Introduction to complex numbers"
   ]
  },
  {
   "cell_type": "markdown",
   "metadata": {},
   "source": [
    "# 1.2 Complex numbers in Python"
   ]
  },
  {
   "cell_type": "code",
   "execution_count": 8,
   "metadata": {},
   "outputs": [
    {
     "data": {
      "text/plain": [
       "3j"
      ]
     },
     "execution_count": 8,
     "metadata": {},
     "output_type": "execute_result"
    }
   ],
   "source": [
    "3j"
   ]
  },
  {
   "cell_type": "code",
   "execution_count": 9,
   "metadata": {},
   "outputs": [
    {
     "ename": "NameError",
     "evalue": "name 'j' is not defined",
     "output_type": "error",
     "traceback": [
      "\u001b[0;31m---------------------------------------------------------------------------\u001b[0m",
      "\u001b[0;31mNameError\u001b[0m                                 Traceback (most recent call last)",
      "\u001b[0;32m<ipython-input-9-3eedd8854d1e>\u001b[0m in \u001b[0;36m<module>\u001b[0;34m()\u001b[0m\n\u001b[0;32m----> 1\u001b[0;31m \u001b[0mj\u001b[0m\u001b[0;34m\u001b[0m\u001b[0m\n\u001b[0m",
      "\u001b[0;31mNameError\u001b[0m: name 'j' is not defined"
     ]
    }
   ],
   "source": [
    "j"
   ]
  },
  {
   "cell_type": "code",
   "execution_count": 10,
   "metadata": {},
   "outputs": [
    {
     "data": {
      "text/plain": [
       "(1+3j)"
      ]
     },
     "execution_count": 10,
     "metadata": {},
     "output_type": "execute_result"
    }
   ],
   "source": [
    "1+3j"
   ]
  },
  {
   "cell_type": "code",
   "execution_count": 11,
   "metadata": {},
   "outputs": [
    {
     "data": {
      "text/plain": [
       "(11+23j)"
      ]
     },
     "execution_count": 11,
     "metadata": {},
     "output_type": "execute_result"
    }
   ],
   "source": [
    "(1+3j) + (10+20j)"
   ]
  },
  {
   "cell_type": "code",
   "execution_count": 14,
   "metadata": {},
   "outputs": [
    {
     "data": {
      "text/plain": [
       "(-9+0j)"
      ]
     },
     "execution_count": 14,
     "metadata": {},
     "output_type": "execute_result"
    }
   ],
   "source": [
    "x = 1 + 3j\n",
    "(x-1)**2"
   ]
  },
  {
   "cell_type": "code",
   "execution_count": 15,
   "metadata": {},
   "outputs": [
    {
     "data": {
      "text/plain": [
       "(1+6j)"
      ]
     },
     "execution_count": 15,
     "metadata": {},
     "output_type": "execute_result"
    }
   ],
   "source": [
    "1 + 2j*3"
   ]
  },
  {
   "cell_type": "code",
   "execution_count": 16,
   "metadata": {},
   "outputs": [
    {
     "data": {
      "text/plain": [
       "(-36+0j)"
      ]
     },
     "execution_count": 16,
     "metadata": {},
     "output_type": "execute_result"
    }
   ],
   "source": [
    "4*3j**2"
   ]
  },
  {
   "cell_type": "code",
   "execution_count": 17,
   "metadata": {},
   "outputs": [
    {
     "data": {
      "text/plain": [
       "1.0"
      ]
     },
     "execution_count": 17,
     "metadata": {},
     "output_type": "execute_result"
    }
   ],
   "source": [
    "x.real"
   ]
  },
  {
   "cell_type": "code",
   "execution_count": 18,
   "metadata": {},
   "outputs": [
    {
     "data": {
      "text/plain": [
       "3.0"
      ]
     },
     "execution_count": 18,
     "metadata": {},
     "output_type": "execute_result"
    }
   ],
   "source": [
    "x.imag"
   ]
  },
  {
   "cell_type": "code",
   "execution_count": 19,
   "metadata": {},
   "outputs": [
    {
     "data": {
      "text/plain": [
       "complex"
      ]
     },
     "execution_count": 19,
     "metadata": {},
     "output_type": "execute_result"
    }
   ],
   "source": [
    "type(1+2j)"
   ]
  },
  {
   "cell_type": "markdown",
   "metadata": {},
   "source": [
    "# 1.3 Abstracting over *fields*"
   ]
  },
  {
   "cell_type": "code",
   "execution_count": 20,
   "metadata": {},
   "outputs": [],
   "source": [
    "def solve(a, b, c): return (c-b)/a"
   ]
  },
  {
   "cell_type": "code",
   "execution_count": 21,
   "metadata": {},
   "outputs": [
    {
     "data": {
      "text/plain": [
       "2.5"
      ]
     },
     "execution_count": 21,
     "metadata": {},
     "output_type": "execute_result"
    }
   ],
   "source": [
    "solve(10, 5, 30)"
   ]
  },
  {
   "cell_type": "code",
   "execution_count": 22,
   "metadata": {},
   "outputs": [
    {
     "data": {
      "text/plain": [
       "(1.2-0.6j)"
      ]
     },
     "execution_count": 22,
     "metadata": {},
     "output_type": "execute_result"
    }
   ],
   "source": [
    "solve(10+5j, 5, 20)"
   ]
  },
  {
   "cell_type": "markdown",
   "metadata": {},
   "source": [
    "# 1.4 Playing with $\\mathbb{C}$"
   ]
  },
  {
   "cell_type": "markdown",
   "metadata": {},
   "source": [
    "### Task 1.4.1"
   ]
  },
  {
   "cell_type": "code",
   "execution_count": 27,
   "metadata": {},
   "outputs": [],
   "source": [
    "%matplotlib notebook\n",
    "import matplotlib.pyplot as plt"
   ]
  },
  {
   "cell_type": "code",
   "execution_count": 65,
   "metadata": {},
   "outputs": [],
   "source": [
    "def plot(pts, scale):\n",
    "    plt.close(\"all\")\n",
    "    fig = plt.subplots(1, 1)\n",
    "    ax = plt.gca()\n",
    "    \n",
    "    ax.set_xlim(-scale, scale)\n",
    "    ax.set_ylim(-scale, scale)\n",
    "    ax.set_aspect(\"equal\")\n",
    "    ax.grid(True, which=\"both\")\n",
    "    \n",
    "    ax.spines['left'].set_position('center')\n",
    "    ax.spines['right'].set_color('none')\n",
    "    ax.spines['bottom'].set_position('center')\n",
    "    ax.spines['top'].set_color('none')\n",
    "    ax.xaxis.set_ticks_position('bottom')\n",
    "    ax.yaxis.set_ticks_position('left')\n",
    "    ax.xaxis.set_ticks(range(-scale, scale+1))\n",
    "    ax.yaxis.set_ticks(range(-scale, scale+1))\n",
    "    \n",
    "    ax.plot([x.real for x in pts], [x.imag for x in pts], 'r.')\n",
    "    plt.show()"
   ]
  },
  {
   "cell_type": "code",
   "execution_count": 66,
   "metadata": {},
   "outputs": [],
   "source": [
    "S = {2 + 2j, 3 + 2j, 1.75 + 1j, 2 + 1j, 2.25 + 1j, 2.5 + 1j, 2.75 + 1j, 3.00 + 1j, 3.25 + 1j}"
   ]
  },
  {
   "cell_type": "code",
   "execution_count": 68,
   "metadata": {},
   "outputs": [
    {
     "data": {
      "image/png": "[encoded data removed]",
      "text/plain": [
       "<Figure size 432x288 with 1 Axes>"
      ]
     },
     "metadata": {},
     "output_type": "display_data"
    }
   ],
   "source": [
    "plot(S, 4)"
   ]
  },
  {
   "cell_type": "markdown",
   "metadata": {},
   "source": [
    "## 1.4.1 The absolute value of a complex number"
   ]
  },
  {
   "cell_type": "markdown",
   "metadata": {},
   "source": [
    "The *absolute value* of a complex number *z* written $|z|$ is the distance from the origin to the corresponding point in the complex plane."
   ]
  },
  {
   "cell_type": "code",
   "execution_count": 70,
   "metadata": {},
   "outputs": [
    {
     "data": {
      "text/plain": [
       "5.0"
      ]
     },
     "execution_count": 70,
     "metadata": {},
     "output_type": "execute_result"
    }
   ],
   "source": [
    "abs(3+4j)"
   ]
  },
  {
   "cell_type": "code",
   "execution_count": 71,
   "metadata": {},
   "outputs": [
    {
     "data": {
      "text/plain": [
       "1.4142135623730951"
      ]
     },
     "execution_count": 71,
     "metadata": {},
     "output_type": "execute_result"
    }
   ],
   "source": [
    "abs(1 + 1j)"
   ]
  },
  {
   "cell_type": "markdown",
   "metadata": {},
   "source": [
    "The *conjugate* of a complex number $z$, written $\\bar{z}$, is defined as $z.\\textrm{real} - z.\\textrm{imag}$."
   ]
  },
  {
   "cell_type": "code",
   "execution_count": 72,
   "metadata": {},
   "outputs": [
    {
     "data": {
      "text/plain": [
       "(3-4j)"
      ]
     },
     "execution_count": 72,
     "metadata": {},
     "output_type": "execute_result"
    }
   ],
   "source": [
    "(3+4j).conjugate()"
   ]
  },
  {
   "cell_type": "markdown",
   "metadata": {},
   "source": [
    "The absolute value squared of a complex number can be derived from its conjugate.\n",
    "\n",
    "$|z|^2 = z \\cdot \\bar{z}$."
   ]
  },
  {
   "cell_type": "code",
   "execution_count": 75,
   "metadata": {},
   "outputs": [
    {
     "data": {
      "text/plain": [
       "25.0"
      ]
     },
     "execution_count": 75,
     "metadata": {},
     "output_type": "execute_result"
    }
   ],
   "source": [
    "abs(3+4j)**2"
   ]
  },
  {
   "cell_type": "code",
   "execution_count": 76,
   "metadata": {},
   "outputs": [
    {
     "data": {
      "text/plain": [
       "(25+0j)"
      ]
     },
     "execution_count": 76,
     "metadata": {},
     "output_type": "execute_result"
    }
   ],
   "source": [
    "(3+4j) * (3+4j).conjugate()"
   ]
  },
  {
   "cell_type": "markdown",
   "metadata": {},
   "source": [
    "## 1.4.2 Adding complex numbers"
   ]
  },
  {
   "cell_type": "markdown",
   "metadata": {},
   "source": [
    "### Task 1.4.3"
   ]
  },
  {
   "cell_type": "code",
   "execution_count": 78,
   "metadata": {},
   "outputs": [
    {
     "data": {
      "image/png": "[encoded data removed]",
      "text/plain": [
       "<Figure size 432x288 with 1 Axes>"
      ]
     },
     "metadata": {},
     "output_type": "display_data"
    }
   ],
   "source": [
    "plot({1+2j + z for z in S}, 5)"
   ]
  },
  {
   "cell_type": "markdown",
   "metadata": {},
   "source": [
    "### Quiz 1.4.4\n",
    "\n",
    "The \"left eye\" of the set $S$ of complex numbers is located at $2 + 2i$. For what value of $z_0$ does the translation $f(z) = z_0 + z$ move the left eye to the origin?"
   ]
  },
  {
   "cell_type": "code",
   "execution_count": 84,
   "metadata": {},
   "outputs": [
    {
     "name": "stdout",
     "output_type": "stream",
     "text": [
      "[(1.75+1j), (2.25+1j), (3+1j), (2.5+1j), (2.75+1j), (3.25+1j), (2+1j), (3+2j), (2+2j)]\n"
     ]
    }
   ],
   "source": [
    "S_tmp = list(S.copy())\n",
    "print(S_tmp)"
   ]
  },
  {
   "cell_type": "code",
   "execution_count": 85,
   "metadata": {},
   "outputs": [
    {
     "data": {
      "image/png": "[encoded data removed]",
      "text/plain": [
       "<Figure size 432x288 with 1 Axes>"
      ]
     },
     "metadata": {},
     "output_type": "display_data"
    }
   ],
   "source": [
    "S_tmp[-1] = S_tmp[-1] + (-2-2j)\n",
    "plot([x for x in S_tmp], 4)"
   ]
  },
  {
   "cell_type": "markdown",
   "metadata": {},
   "source": [
    "### Problem 1.4.5\n",
    "\n",
    "Show that, for any two distinct points $z_1$ and $z_2$:\n",
    "\n",
    "* there is a translation that maps $z_1$ to $z_2$\n",
    "* there is a translation that maps $z_2$ to $z_1$\n",
    "* there is *no* translation that both maps $z_1$ to $z_2$ and $z_2$ to $z_1$"
   ]
  },
  {
   "cell_type": "markdown",
   "metadata": {},
   "source": [
    "Um, not sure how to prove this because I'm math illiterate. \n",
    "\n",
    "Any complex number $z_1$ can be translated to any other complex number $z_2$ simply by adding to $z_1$ the imaginary number $a$ where $a.\\textrm{real} = z_2.\\textrm{real} - z_1.\\textrm{real}$ and $a.\\textrm{imag} = z_2.\\textrm{imag} - z_1.\\textrm{imag.}$. The reverse applies in translating $z_2$ to $z_1$. We add $b$ to $z_2$ where $b.\\textrm{real} = z_1.\\textrm{real} - z_2.\\textrm{real}$ and $b.\\textrm{imag} = z_1.\\textrm{imag} - z_2.\\textrm{imag.}$. In no situation can $a = b$ (part 3 of the problem) because that would imply $z_2.\\textrm{real} - z_1.\\textrm{real} = z_1.\\textrm{real} - z_2.\\textrm{real}$, or specifically that $z_2.\\textrm{real} = -z_2.\\textrm{real}$ and $z_1.\\textrm{real} = -z_1.\\textrm{real}$. A number can't equal its opposite, so part 3 is proven. I guess. "
   ]
  },
  {
   "cell_type": "markdown",
   "metadata": {},
   "source": [
    "# 1.5 Playing with *GF*(2)"
   ]
  },
  {
   "cell_type": "markdown",
   "metadata": {},
   "source": [
    "## Problem 1.5.1"
   ]
  },
  {
   "cell_type": "code",
   "execution_count": 1,
   "metadata": {},
   "outputs": [],
   "source": [
    "letter2bin = {}\n",
    "letters = 'ABCDEFGHIJKLMNOPQRSTUVWXYZ '\n",
    "for i in range(27):\n",
    "    letter2bin[letters[i]] = i\n",
    "bin2letter = {v:k for k, v in letter2bin.items()}"
   ]
  },
  {
   "cell_type": "code",
   "execution_count": 2,
   "metadata": {},
   "outputs": [],
   "source": [
    "string = [\n",
    "    0b10101,\n",
    "    0b00100,\n",
    "    0b10101,\n",
    "    0b01011,\n",
    "    0b11001,\n",
    "    0b00011,\n",
    "    0b01011,\n",
    "    0b10101,\n",
    "    0b00100,\n",
    "    0b11001,\n",
    "    0b11010\n",
    "]"
   ]
  },
  {
   "cell_type": "code",
   "execution_count": 6,
   "metadata": {},
   "outputs": [
    {
     "name": "stdout",
     "output_type": "stream",
     "text": [
      "0 0b0 VEVLZDLVEZ \n",
      "1 0b1 UFUKYCKUFY#\n",
      "2 0b10 XGXJ#BJXG#Y\n",
      "3 0b11 WHWI AIWH Z\n",
      "4 0b100 RARP#HPRA##\n",
      "5 0b101 QBQO#GOQB##\n",
      "6 0b110 TCTN#FNTC##\n",
      "7 0b111 SDSM#EMSD##\n",
      "8 0b1000 #M#DRLD#MRS\n",
      "9 0b1001 #N#CQKC#NQT\n",
      "10 0b1010 #O#BTJB#OTQ\n",
      "11 0b1011 #P#ASIA#PSR\n",
      "12 0b1100 ZIZHVPHZIVW\n",
      "13 0b1101 YJYGUOGYJUX\n",
      "14 0b1110 #K#FXNF#KXU\n",
      "15 0b1111  L EWME LWV\n",
      "16 0b10000 FUF#JT#FUJK\n",
      "17 0b10001 EVE IS EVIL\n",
      "18 0b10010 HWHZLRZHWLI\n",
      "19 0b10011 GXGYKQYGXKJ\n",
      "20 0b10100 BQB#NX#BQNO\n",
      "21 0b10101 ARA#MW#ARMP\n",
      "22 0b10110 DSD#PV#DSPM\n",
      "23 0b10111 CTC#OU#CTON\n",
      "24 0b11000 N#NTB#TN#BC\n",
      "25 0b11001 M#MSA SM#AD\n",
      "26 0b11010 P#PRDZRP#DA\n",
      "27 0b11011 O#OQCYQO#CB\n",
      "28 0b11100 JYJXF#XJYFG\n",
      "29 0b11101 IZIWE#WIZEH\n",
      "30 0b11110 L LVH#VL HE\n",
      "31 0b11111 K#KUG#UK#GF\n"
     ]
    }
   ],
   "source": [
    "for key in range(32):\n",
    "    out = []\n",
    "    for s in string:\n",
    "        out.append(key ^ s)\n",
    "    print(key, bin(key), \"\".join([bin2letter[x] if x in bin2letter else '#' for x in out]))"
   ]
  },
  {
   "cell_type": "markdown",
   "metadata": {},
   "source": [
    "They binary key is `10001` and the message is `EVE IS EVIL`."
   ]
  },
  {
   "cell_type": "markdown",
   "metadata": {},
   "source": [
    "# 1.6 Review Questions"
   ]
  },
  {
   "cell_type": "markdown",
   "metadata": {},
   "source": [
    "# 1.7 Problems"
   ]
  }
 ],
 "metadata": {
  "kernelspec": {
   "display_name": "Python 3",
   "language": "python",
   "name": "python3"
  },
  "language_info": {
   "codemirror_mode": {
    "name": "ipython",
    "version": 3
   },
   "file_extension": ".py",
   "mimetype": "text/x-python",
   "name": "python",
   "nbconvert_exporter": "python",
   "pygments_lexer": "ipython3",
   "version": "3.5.2"
  }
 },
 "nbformat": 4,
 "nbformat_minor": 2
}
