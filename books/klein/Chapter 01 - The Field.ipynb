{
 "cells": [
  {
   "cell_type": "markdown",
   "metadata": {},
   "source": [
    "# 1.1 Introduction to complex numbers"
   ]
  },
  {
   "cell_type": "markdown",
   "metadata": {},
   "source": [
    "# 1.2 Complex numbers in Python"
   ]
  },
  {
   "cell_type": "code",
   "execution_count": 1,
   "metadata": {},
   "outputs": [
    {
     "data": {
      "text/plain": [
       "3j"
      ]
     },
     "execution_count": 1,
     "metadata": {},
     "output_type": "execute_result"
    }
   ],
   "source": [
    "3j"
   ]
  },
  {
   "cell_type": "code",
   "execution_count": 2,
   "metadata": {},
   "outputs": [
    {
     "data": {
      "text/plain": [
       "(1+3j)"
      ]
     },
     "execution_count": 2,
     "metadata": {},
     "output_type": "execute_result"
    }
   ],
   "source": [
    "1+3j"
   ]
  },
  {
   "cell_type": "code",
   "execution_count": 3,
   "metadata": {},
   "outputs": [
    {
     "data": {
      "text/plain": [
       "(11+23j)"
      ]
     },
     "execution_count": 3,
     "metadata": {},
     "output_type": "execute_result"
    }
   ],
   "source": [
    "(1+3j) + (10+20j)"
   ]
  },
  {
   "cell_type": "code",
   "execution_count": 4,
   "metadata": {},
   "outputs": [
    {
     "data": {
      "text/plain": [
       "(-9+0j)"
      ]
     },
     "execution_count": 4,
     "metadata": {},
     "output_type": "execute_result"
    }
   ],
   "source": [
    "x = 1 + 3j\n",
    "(x-1)**2"
   ]
  },
  {
   "cell_type": "code",
   "execution_count": 5,
   "metadata": {},
   "outputs": [
    {
     "data": {
      "text/plain": [
       "(1+6j)"
      ]
     },
     "execution_count": 5,
     "metadata": {},
     "output_type": "execute_result"
    }
   ],
   "source": [
    "1 + 2j*3"
   ]
  },
  {
   "cell_type": "code",
   "execution_count": 6,
   "metadata": {},
   "outputs": [
    {
     "data": {
      "text/plain": [
       "(-36+0j)"
      ]
     },
     "execution_count": 6,
     "metadata": {},
     "output_type": "execute_result"
    }
   ],
   "source": [
    "4*3j**2"
   ]
  },
  {
   "cell_type": "code",
   "execution_count": 7,
   "metadata": {},
   "outputs": [
    {
     "data": {
      "text/plain": [
       "1.0"
      ]
     },
     "execution_count": 7,
     "metadata": {},
     "output_type": "execute_result"
    }
   ],
   "source": [
    "x.real"
   ]
  },
  {
   "cell_type": "code",
   "execution_count": 8,
   "metadata": {},
   "outputs": [
    {
     "data": {
      "text/plain": [
       "3.0"
      ]
     },
     "execution_count": 8,
     "metadata": {},
     "output_type": "execute_result"
    }
   ],
   "source": [
    "x.imag"
   ]
  },
  {
   "cell_type": "code",
   "execution_count": 9,
   "metadata": {},
   "outputs": [
    {
     "data": {
      "text/plain": [
       "complex"
      ]
     },
     "execution_count": 9,
     "metadata": {},
     "output_type": "execute_result"
    }
   ],
   "source": [
    "type(1+2j)"
   ]
  },
  {
   "cell_type": "markdown",
   "metadata": {},
   "source": [
    "# 1.3 Abstracting over *fields*"
   ]
  },
  {
   "cell_type": "code",
   "execution_count": 10,
   "metadata": {},
   "outputs": [],
   "source": [
    "def solve(a, b, c): return (c-b)/a"
   ]
  },
  {
   "cell_type": "code",
   "execution_count": 11,
   "metadata": {},
   "outputs": [
    {
     "data": {
      "text/plain": [
       "2.5"
      ]
     },
     "execution_count": 11,
     "metadata": {},
     "output_type": "execute_result"
    }
   ],
   "source": [
    "solve(10, 5, 30)"
   ]
  },
  {
   "cell_type": "code",
   "execution_count": 12,
   "metadata": {},
   "outputs": [
    {
     "data": {
      "text/plain": [
       "(1.2-0.6j)"
      ]
     },
     "execution_count": 12,
     "metadata": {},
     "output_type": "execute_result"
    }
   ],
   "source": [
    "solve(10+5j, 5, 20)"
   ]
  },
  {
   "cell_type": "markdown",
   "metadata": {},
   "source": [
    "# 1.4 Playing with $\\mathbb{C}$"
   ]
  },
  {
   "cell_type": "markdown",
   "metadata": {},
   "source": [
    "### Task 1.4.1"
   ]
  },
  {
   "cell_type": "code",
   "execution_count": 13,
   "metadata": {},
   "outputs": [],
   "source": [
    "%matplotlib inline\n",
    "import matplotlib.pyplot as plt"
   ]
  },
  {
   "cell_type": "code",
   "execution_count": 14,
   "metadata": {},
   "outputs": [],
   "source": [
    "def plot(pts, scale):\n",
    "    plt.close(\"all\")\n",
    "    fig = plt.subplots(1, 1)\n",
    "    ax = plt.gca()\n",
    "    \n",
    "    ax.set_xlim(-scale, scale)\n",
    "    ax.set_ylim(-scale, scale)\n",
    "    ax.set_aspect(\"equal\")\n",
    "    \n",
    "    ax.spines['left'].set_position('center')\n",
    "    ax.spines['right'].set_color('none')\n",
    "    ax.spines['bottom'].set_position('center')\n",
    "    ax.spines['top'].set_color('none')\n",
    "    ax.xaxis.set_ticks_position('bottom')\n",
    "    ax.yaxis.set_ticks_position('left')\n",
    "    ax.xaxis.set_ticks(range(-scale, scale+1))\n",
    "    ax.yaxis.set_ticks(range(-scale, scale+1))\n",
    "    ax.set_yticklabels([])\n",
    "    ax.set_xticklabels([])\n",
    "    \n",
    "    ax.plot([x.real for x in pts], [x.imag for x in pts], 'r.')\n",
    "    plt.show()"
   ]
  },
  {
   "cell_type": "code",
   "execution_count": 15,
   "metadata": {},
   "outputs": [],
   "source": [
    "S = {2 + 2j, 3 + 2j, 1.75 + 1j, 2 + 1j, 2.25 + 1j, 2.5 + 1j, 2.75 + 1j, 3.00 + 1j, 3.25 + 1j}"
   ]
  },
  {
   "cell_type": "code",
   "execution_count": 16,
   "metadata": {},
   "outputs": [
    {
     "data": {
      "image/png": "[encoded data removed]",
      "text/plain": [
       "<Figure size 432x288 with 1 Axes>"
      ]
     },
     "metadata": {},
     "output_type": "display_data"
    }
   ],
   "source": [
    "plot(S, 4)"
   ]
  },
  {
   "cell_type": "markdown",
   "metadata": {},
   "source": [
    "## 1.4.1 The absolute value of a complex number"
   ]
  },
  {
   "cell_type": "markdown",
   "metadata": {},
   "source": [
    "The *absolute value* of a complex number *z* written $|z|$ is the distance from the origin to the corresponding point in the complex plane."
   ]
  },
  {
   "cell_type": "code",
   "execution_count": 17,
   "metadata": {},
   "outputs": [
    {
     "data": {
      "text/plain": [
       "5.0"
      ]
     },
     "execution_count": 17,
     "metadata": {},
     "output_type": "execute_result"
    }
   ],
   "source": [
    "abs(3+4j)"
   ]
  },
  {
   "cell_type": "code",
   "execution_count": 18,
   "metadata": {},
   "outputs": [
    {
     "data": {
      "text/plain": [
       "1.4142135623730951"
      ]
     },
     "execution_count": 18,
     "metadata": {},
     "output_type": "execute_result"
    }
   ],
   "source": [
    "abs(1 + 1j)"
   ]
  },
  {
   "cell_type": "markdown",
   "metadata": {},
   "source": [
    "The *conjugate* of a complex number $z$, written $\\bar{z}$, is defined as $z.\\textrm{real} - z.\\textrm{imag}$."
   ]
  },
  {
   "cell_type": "code",
   "execution_count": 19,
   "metadata": {},
   "outputs": [
    {
     "data": {
      "text/plain": [
       "(3-4j)"
      ]
     },
     "execution_count": 19,
     "metadata": {},
     "output_type": "execute_result"
    }
   ],
   "source": [
    "(3+4j).conjugate()"
   ]
  },
  {
   "cell_type": "markdown",
   "metadata": {},
   "source": [
    "The absolute value squared of a complex number can be derived from its conjugate.\n",
    "\n",
    "$|z|^2 = z \\cdot \\bar{z}$."
   ]
  },
  {
   "cell_type": "code",
   "execution_count": 20,
   "metadata": {},
   "outputs": [
    {
     "data": {
      "text/plain": [
       "25.0"
      ]
     },
     "execution_count": 20,
     "metadata": {},
     "output_type": "execute_result"
    }
   ],
   "source": [
    "abs(3+4j)**2"
   ]
  },
  {
   "cell_type": "code",
   "execution_count": 21,
   "metadata": {},
   "outputs": [
    {
     "data": {
      "text/plain": [
       "(25+0j)"
      ]
     },
     "execution_count": 21,
     "metadata": {},
     "output_type": "execute_result"
    }
   ],
   "source": [
    "(3+4j) * (3+4j).conjugate()"
   ]
  },
  {
   "cell_type": "markdown",
   "metadata": {},
   "source": [
    "## 1.4.2 Adding complex numbers"
   ]
  },
  {
   "cell_type": "markdown",
   "metadata": {},
   "source": [
    "### Task 1.4.3"
   ]
  },
  {
   "cell_type": "code",
   "execution_count": 22,
   "metadata": {},
   "outputs": [
    {
     "data": {
      "image/png": "[encoded data removed]",
      "text/plain": [
       "<Figure size 432x288 with 1 Axes>"
      ]
     },
     "metadata": {},
     "output_type": "display_data"
    }
   ],
   "source": [
    "plot({1+2j + z for z in S}, 5)"
   ]
  },
  {
   "cell_type": "markdown",
   "metadata": {},
   "source": [
    "### Quiz 1.4.4\n",
    "\n",
    "The \"left eye\" of the set $S$ of complex numbers is located at $2 + 2i$. For what value of $z_0$ does the translation $f(z) = z_0 + z$ move the left eye to the origin?"
   ]
  },
  {
   "cell_type": "code",
   "execution_count": 23,
   "metadata": {},
   "outputs": [
    {
     "name": "stdout",
     "output_type": "stream",
     "text": [
      "[(1.75+1j), (2.25+1j), (3+1j), (2.5+1j), (2.75+1j), (3.25+1j), (2+1j), (3+2j), (2+2j)]\n"
     ]
    }
   ],
   "source": [
    "S_tmp = list(S.copy())\n",
    "print(S_tmp)"
   ]
  },
  {
   "cell_type": "code",
   "execution_count": 24,
   "metadata": {},
   "outputs": [
    {
     "data": {
      "image/png": "[encoded data removed]",
      "text/plain": [
       "<Figure size 432x288 with 1 Axes>"
      ]
     },
     "metadata": {},
     "output_type": "display_data"
    }
   ],
   "source": [
    "S_tmp[-1] = S_tmp[-1] + (-2-2j)\n",
    "plot([x for x in S_tmp], 4)"
   ]
  },
  {
   "cell_type": "markdown",
   "metadata": {},
   "source": [
    "### Problem 1.4.5\n",
    "\n",
    "Show that, for any two distinct points $z_1$ and $z_2$:\n",
    "\n",
    "* there is a translation that maps $z_1$ to $z_2$\n",
    "* there is a translation that maps $z_2$ to $z_1$\n",
    "* there is *no* translation that both maps $z_1$ to $z_2$ and $z_2$ to $z_1$"
   ]
  },
  {
   "cell_type": "markdown",
   "metadata": {},
   "source": [
    "Um, not sure how to prove this because I'm math illiterate. \n",
    "\n",
    "Any complex number $z_1$ can be translated to any other complex number $z_2$ simply by adding to $z_1$ the complex number $a$ where $a.\\textrm{real} = z_2.\\textrm{real} - z_1.\\textrm{real}$ and $a.\\textrm{imag} = z_2.\\textrm{imag} - z_1.\\textrm{imag.}$. The reverse applies in translating $z_2$ to $z_1$. We add $b$ to $z_2$ where $b.\\textrm{real} = z_1.\\textrm{real} - z_2.\\textrm{real}$ and $b.\\textrm{imag} = z_1.\\textrm{imag} - z_2.\\textrm{imag.}$. In no situation can $a = b$ (part 3 of the problem) because that would imply $z_2.\\textrm{real} - z_1.\\textrm{real} = z_1.\\textrm{real} - z_2.\\textrm{real}$, or specifically that $z_2.\\textrm{real} = -z_2.\\textrm{real}$ and $z_1.\\textrm{real} = -z_1.\\textrm{real}$. A number can't equal its opposite, so part 3 is proven. I guess. "
   ]
  },
  {
   "cell_type": "markdown",
   "metadata": {},
   "source": [
    "### Problem 1.4.6\n",
    "\n",
    "Draw a diagram representing the complex number $z_0 = -3 + 3\\mathbf{i}$ using two arrows with their tails located at different points. "
   ]
  },
  {
   "cell_type": "code",
   "execution_count": 25,
   "metadata": {},
   "outputs": [
    {
     "data": {
      "text/plain": [
       "[<matplotlib.lines.Line2D at 0x7f2ffe2e5080>]"
      ]
     },
     "execution_count": 25,
     "metadata": {},
     "output_type": "execute_result"
    },
    {
     "data": {
      "image/png": "[encoded data removed]",
      "text/plain": [
       "<Figure size 432x288 with 1 Axes>"
      ]
     },
     "metadata": {},
     "output_type": "display_data"
    }
   ],
   "source": [
    "scale = 5\n",
    "plt.close(\"all\")\n",
    "fig = plt.subplots(1, 1)\n",
    "ax = plt.gca()\n",
    "ax.set_xlim(-scale, scale)\n",
    "ax.set_ylim(-scale, scale)\n",
    "ax.set_aspect(\"equal\")\n",
    "ax.grid(True, which=\"both\")\n",
    "ax.spines['left'].set_position('center')\n",
    "ax.spines['right'].set_color('none')\n",
    "ax.spines['bottom'].set_position('center')\n",
    "ax.spines['top'].set_color('none')\n",
    "ax.xaxis.set_ticks_position('bottom')\n",
    "ax.yaxis.set_ticks_position('left')\n",
    "ax.xaxis.set_ticks(range(-scale, scale+1))\n",
    "ax.yaxis.set_ticks(range(-scale, scale+1))\n",
    "    \n",
    "ax.plot([0, -3], [0, 3], 'r')\n",
    "ax.plot([-1, -4], [-2, 1], 'b')\n",
    "ax.plot([2, -1], [1, 4], 'g')"
   ]
  },
  {
   "cell_type": "markdown",
   "metadata": {},
   "source": [
    "## 1.4.3 Multiplying complex numbers by a positive real number"
   ]
  },
  {
   "cell_type": "markdown",
   "metadata": {},
   "source": [
    "### Task 1.4.7"
   ]
  },
  {
   "cell_type": "code",
   "execution_count": 26,
   "metadata": {},
   "outputs": [
    {
     "data": {
      "image/png": "[encoded data removed]",
      "text/plain": [
       "<Figure size 432x288 with 1 Axes>"
      ]
     },
     "metadata": {},
     "output_type": "display_data"
    }
   ],
   "source": [
    "plot([x/2 for x in S], 4)"
   ]
  },
  {
   "cell_type": "markdown",
   "metadata": {},
   "source": [
    "## 1.4.4 Multiplying complex numbers by a negative number: rotating by 180 degrees"
   ]
  },
  {
   "cell_type": "markdown",
   "metadata": {},
   "source": [
    "## 1.4.5 Multiplying by i: rotation by 90 degrees"
   ]
  },
  {
   "cell_type": "markdown",
   "metadata": {},
   "source": [
    "### Task 1.4.8"
   ]
  },
  {
   "cell_type": "code",
   "execution_count": 27,
   "metadata": {},
   "outputs": [
    {
     "data": {
      "image/png": "[encoded data removed]",
      "text/plain": [
       "<Figure size 432x288 with 1 Axes>"
      ]
     },
     "metadata": {},
     "output_type": "display_data"
    }
   ],
   "source": [
    "plot([x * (1j/2) for x in S], 4)"
   ]
  },
  {
   "cell_type": "markdown",
   "metadata": {},
   "source": [
    "### Task 1.4.9"
   ]
  },
  {
   "cell_type": "code",
   "execution_count": 28,
   "metadata": {},
   "outputs": [
    {
     "data": {
      "image/png": "[encoded data removed]",
      "text/plain": [
       "<Figure size 432x288 with 1 Axes>"
      ]
     },
     "metadata": {},
     "output_type": "display_data"
    }
   ],
   "source": [
    "plot([x * (1j/2) + (2 - 1j) for x in S], 4)"
   ]
  },
  {
   "cell_type": "markdown",
   "metadata": {},
   "source": [
    "### Task 1.4.10"
   ]
  },
  {
   "cell_type": "code",
   "execution_count": 29,
   "metadata": {},
   "outputs": [],
   "source": [
    "from image import file2image, color2gray\n",
    "\n",
    "data = file2image(\"img01.png\")\n",
    "data = color2gray(data)"
   ]
  },
  {
   "cell_type": "code",
   "execution_count": 30,
   "metadata": {},
   "outputs": [
    {
     "data": {
      "text/plain": [
       "178"
      ]
     },
     "execution_count": 30,
     "metadata": {},
     "output_type": "execute_result"
    }
   ],
   "source": [
    "data[5][0]"
   ]
  },
  {
   "cell_type": "code",
   "execution_count": 31,
   "metadata": {},
   "outputs": [],
   "source": [
    "height = len(data)\n",
    "width = len(data[0])"
   ]
  },
  {
   "cell_type": "code",
   "execution_count": 32,
   "metadata": {},
   "outputs": [],
   "source": [
    "pts = [x + (height-y)*1j for y in range(height) for x in range(width) if data[y][x] < 120]"
   ]
  },
  {
   "cell_type": "code",
   "execution_count": 33,
   "metadata": {},
   "outputs": [
    {
     "data": {
      "image/png": "[encoded data removed]",
      "text/plain": [
       "<Figure size 432x288 with 1 Axes>"
      ]
     },
     "metadata": {},
     "output_type": "display_data"
    }
   ],
   "source": [
    "plot(pts, len(data))"
   ]
  },
  {
   "cell_type": "markdown",
   "metadata": {},
   "source": [
    "### Task 1.4.11"
   ]
  },
  {
   "cell_type": "code",
   "execution_count": 34,
   "metadata": {},
   "outputs": [],
   "source": [
    "def center_points(pts):\n",
    "    min_w = 9999999\n",
    "    max_w = 0\n",
    "    min_h = 9999999\n",
    "    max_h = 0\n",
    "\n",
    "    for z in pts:\n",
    "        if z.real > max_w:\n",
    "            max_w = z.real\n",
    "        if z.real < min_w:\n",
    "            min_w = z.real\n",
    "        if z.imag > max_h:\n",
    "            max_h = z.imag\n",
    "        if z.imag < min_h:\n",
    "            min_h = z.imag\n",
    "    width = max_w + min_w\n",
    "    height = max_h + min_h\n",
    "    \n",
    "    return [z - (width/2 + (height/2) * 1j) for z in pts]"
   ]
  },
  {
   "cell_type": "code",
   "execution_count": 35,
   "metadata": {},
   "outputs": [
    {
     "data": {
      "image/png": "[encoded data removed]",
      "text/plain": [
       "<Figure size 432x288 with 1 Axes>"
      ]
     },
     "metadata": {},
     "output_type": "display_data"
    }
   ],
   "source": [
    "plot(center_points(S), 2)"
   ]
  },
  {
   "cell_type": "markdown",
   "metadata": {},
   "source": [
    "### Task 1.4.12 "
   ]
  },
  {
   "cell_type": "code",
   "execution_count": 36,
   "metadata": {},
   "outputs": [
    {
     "data": {
      "image/png": "[encoded data removed]",
      "text/plain": [
       "<Figure size 432x288 with 1 Axes>"
      ]
     },
     "metadata": {},
     "output_type": "display_data"
    }
   ],
   "source": [
    "plot(center_points(pts), len(data))"
   ]
  },
  {
   "cell_type": "markdown",
   "metadata": {},
   "source": [
    "## 1.4.6 The unit circle in the complex plane: *argument* and angle"
   ]
  },
  {
   "cell_type": "markdown",
   "metadata": {},
   "source": [
    "## 1.4.7 Euler's Formula"
   ]
  },
  {
   "cell_type": "markdown",
   "metadata": {},
   "source": [
    "### Task 1.4.17"
   ]
  },
  {
   "cell_type": "code",
   "execution_count": 37,
   "metadata": {},
   "outputs": [
    {
     "data": {
      "image/png": "[encoded data removed]",
      "text/plain": [
       "<Figure size 432x288 with 1 Axes>"
      ]
     },
     "metadata": {},
     "output_type": "display_data"
    }
   ],
   "source": [
    "from math import e, pi\n",
    "\n",
    "plot({e**((2*pi*1j)/n) for n in range(1,20)}, 2)"
   ]
  },
  {
   "cell_type": "markdown",
   "metadata": {},
   "source": [
    "## 1.4.8 Polar representation for complex numbers"
   ]
  },
  {
   "cell_type": "markdown",
   "metadata": {},
   "source": [
    "## 1.4.9 The First Law of Exponentiation"
   ]
  },
  {
   "cell_type": "markdown",
   "metadata": {},
   "source": [
    "## 1.4.10 Rotation by $\\tau$ radians"
   ]
  },
  {
   "cell_type": "markdown",
   "metadata": {},
   "source": [
    "### Task 1.4.18"
   ]
  },
  {
   "cell_type": "code",
   "execution_count": 38,
   "metadata": {},
   "outputs": [
    {
     "data": {
      "image/png": "[encoded data removed]",
      "text/plain": [
       "<Figure size 432x288 with 1 Axes>"
      ]
     },
     "metadata": {},
     "output_type": "display_data"
    }
   ],
   "source": [
    "plot({s * e ** ((pi/4)* 1j) for s in S}, 4)"
   ]
  },
  {
   "cell_type": "markdown",
   "metadata": {},
   "source": [
    "### Task 1.4.19"
   ]
  },
  {
   "cell_type": "code",
   "execution_count": 39,
   "metadata": {},
   "outputs": [
    {
     "data": {
      "image/png": "[encoded data removed]",
      "text/plain": [
       "<Figure size 432x288 with 1 Axes>"
      ]
     },
     "metadata": {},
     "output_type": "display_data"
    }
   ],
   "source": [
    "plot({pt * e ** ((pi/4)* 1j) for pt in pts}, len(data))"
   ]
  },
  {
   "cell_type": "markdown",
   "metadata": {},
   "source": [
    "## 1.4.11 Combining operations"
   ]
  },
  {
   "cell_type": "markdown",
   "metadata": {},
   "source": [
    "### Task 1.4.20"
   ]
  },
  {
   "cell_type": "code",
   "execution_count": 40,
   "metadata": {},
   "outputs": [
    {
     "data": {
      "image/png": "[encoded data removed]",
      "text/plain": [
       "<Figure size 432x288 with 1 Axes>"
      ]
     },
     "metadata": {},
     "output_type": "display_data"
    }
   ],
   "source": [
    "plot({pt * e ** ((pi/4)* 1j) for pt in center_points(pts)}, len(data))"
   ]
  },
  {
   "cell_type": "markdown",
   "metadata": {},
   "source": [
    "## 1.4.12 Beyond two dimensions"
   ]
  },
  {
   "cell_type": "markdown",
   "metadata": {},
   "source": [
    "# 1.5 Playing with *GF*(2)"
   ]
  },
  {
   "cell_type": "markdown",
   "metadata": {},
   "source": [
    "## 1.5.1 Perfect secrecy revisited"
   ]
  },
  {
   "cell_type": "markdown",
   "metadata": {},
   "source": [
    "### Problem 1.5.1"
   ]
  },
  {
   "cell_type": "code",
   "execution_count": 41,
   "metadata": {},
   "outputs": [],
   "source": [
    "letter2bin = {}\n",
    "letters = 'ABCDEFGHIJKLMNOPQRSTUVWXYZ '\n",
    "for i in range(27):\n",
    "    letter2bin[letters[i]] = i\n",
    "bin2letter = {v:k for k, v in letter2bin.items()}"
   ]
  },
  {
   "cell_type": "code",
   "execution_count": 42,
   "metadata": {},
   "outputs": [],
   "source": [
    "string = [\n",
    "    0b10101,\n",
    "    0b00100,\n",
    "    0b10101,\n",
    "    0b01011,\n",
    "    0b11001,\n",
    "    0b00011,\n",
    "    0b01011,\n",
    "    0b10101,\n",
    "    0b00100,\n",
    "    0b11001,\n",
    "    0b11010\n",
    "]"
   ]
  },
  {
   "cell_type": "code",
   "execution_count": 43,
   "metadata": {},
   "outputs": [
    {
     "name": "stdout",
     "output_type": "stream",
     "text": [
      "0 0b0 VEVLZDLVEZ \n",
      "1 0b1 UFUKYCKUFY#\n",
      "2 0b10 XGXJ#BJXG#Y\n",
      "3 0b11 WHWI AIWH Z\n",
      "4 0b100 RARP#HPRA##\n",
      "5 0b101 QBQO#GOQB##\n",
      "6 0b110 TCTN#FNTC##\n",
      "7 0b111 SDSM#EMSD##\n",
      "8 0b1000 #M#DRLD#MRS\n",
      "9 0b1001 #N#CQKC#NQT\n",
      "10 0b1010 #O#BTJB#OTQ\n",
      "11 0b1011 #P#ASIA#PSR\n",
      "12 0b1100 ZIZHVPHZIVW\n",
      "13 0b1101 YJYGUOGYJUX\n",
      "14 0b1110 #K#FXNF#KXU\n",
      "15 0b1111  L EWME LWV\n",
      "16 0b10000 FUF#JT#FUJK\n",
      "17 0b10001 EVE IS EVIL\n",
      "18 0b10010 HWHZLRZHWLI\n",
      "19 0b10011 GXGYKQYGXKJ\n",
      "20 0b10100 BQB#NX#BQNO\n",
      "21 0b10101 ARA#MW#ARMP\n",
      "22 0b10110 DSD#PV#DSPM\n",
      "23 0b10111 CTC#OU#CTON\n",
      "24 0b11000 N#NTB#TN#BC\n",
      "25 0b11001 M#MSA SM#AD\n",
      "26 0b11010 P#PRDZRP#DA\n",
      "27 0b11011 O#OQCYQO#CB\n",
      "28 0b11100 JYJXF#XJYFG\n",
      "29 0b11101 IZIWE#WIZEH\n",
      "30 0b11110 L LVH#VL HE\n",
      "31 0b11111 K#KUG#UK#GF\n"
     ]
    }
   ],
   "source": [
    "for key in range(32):\n",
    "    out = []\n",
    "    for s in string:\n",
    "        out.append(key ^ s)\n",
    "    print(key, bin(key), \"\".join([bin2letter[x] if x in bin2letter else '#' for x in out]))"
   ]
  },
  {
   "cell_type": "markdown",
   "metadata": {},
   "source": [
    "They binary key is `10001` and the message is `EVE IS EVIL`."
   ]
  },
  {
   "cell_type": "markdown",
   "metadata": {},
   "source": [
    "# 1.6 Review Questions\n",
    "\n",
    "* Name three fields.\n",
    "* What is the conjugate of a complex number? What does it have to do with the absolute value of a complex number?\n",
    "* How does complex-number addition work?\n",
    "* How does complex-number multiplication work?\n",
    "* How can translation be defined in terms of complex numbers?\n",
    "* How can scaling be defined in terms of compelx numbers?\n",
    "* How can rotation by 180 degrees by defined in terms of complex numbers?\n",
    "* How can rotation by 90 degrees be defined in terms of complex numbers?\n",
    "* How does addition of *GF*(2) values work?\n",
    "* How does multiplication of *GF*(2) values work?"
   ]
  },
  {
   "cell_type": "markdown",
   "metadata": {},
   "source": [
    "# 1.7 Problems"
   ]
  },
  {
   "cell_type": "markdown",
   "metadata": {},
   "source": [
    "### Problem 1.7.1"
   ]
  },
  {
   "cell_type": "code",
   "execution_count": 44,
   "metadata": {},
   "outputs": [],
   "source": [
    "def my_filter(L, num):\n",
    "    return [x for x in L if x % num != 0]"
   ]
  },
  {
   "cell_type": "code",
   "execution_count": 46,
   "metadata": {},
   "outputs": [
    {
     "data": {
      "text/plain": [
       "[1, 5, 7]"
      ]
     },
     "execution_count": 46,
     "metadata": {},
     "output_type": "execute_result"
    }
   ],
   "source": [
    "my_filter([1, 2, 4, 5, 7], 2)"
   ]
  },
  {
   "cell_type": "markdown",
   "metadata": {},
   "source": [
    "### Problem 1.7.2"
   ]
  },
  {
   "cell_type": "code",
   "execution_count": 47,
   "metadata": {},
   "outputs": [],
   "source": [
    "def my_lists(L):\n",
    "    return[list(range(1, x+1)) for x in L]"
   ]
  },
  {
   "cell_type": "code",
   "execution_count": 48,
   "metadata": {},
   "outputs": [
    {
     "data": {
      "text/plain": [
       "[[1], [1, 2], [1, 2, 3, 4]]"
      ]
     },
     "execution_count": 48,
     "metadata": {},
     "output_type": "execute_result"
    }
   ],
   "source": [
    "my_lists([1, 2, 4])"
   ]
  },
  {
   "cell_type": "code",
   "execution_count": 49,
   "metadata": {},
   "outputs": [
    {
     "data": {
      "text/plain": [
       "[[]]"
      ]
     },
     "execution_count": 49,
     "metadata": {},
     "output_type": "execute_result"
    }
   ],
   "source": [
    "my_lists([0])"
   ]
  },
  {
   "cell_type": "markdown",
   "metadata": {},
   "source": [
    "### Problem 1.7.3"
   ]
  },
  {
   "cell_type": "code",
   "execution_count": 51,
   "metadata": {},
   "outputs": [],
   "source": [
    "def my_function_composition(f, g):\n",
    "    return {k:g[v] for k, v in f.items()}"
   ]
  },
  {
   "cell_type": "code",
   "execution_count": 52,
   "metadata": {},
   "outputs": [
    {
     "data": {
      "text/plain": [
       "{0: 'apple', 1: 'banana'}"
      ]
     },
     "execution_count": 52,
     "metadata": {},
     "output_type": "execute_result"
    }
   ],
   "source": [
    "f = {0:'a', 1:'b'}\n",
    "g = {'a':'apple', 'b':'banana'}\n",
    "my_function_composition(f, g)"
   ]
  },
  {
   "cell_type": "markdown",
   "metadata": {},
   "source": [
    "## Python Loop Problems"
   ]
  },
  {
   "cell_type": "code",
   "execution_count": 54,
   "metadata": {},
   "outputs": [],
   "source": [
    "def ProcedureName(L):\n",
    "    current = ...\n",
    "    for x in L:\n",
    "        current = ...\n",
    "    return current"
   ]
  },
  {
   "cell_type": "markdown",
   "metadata": {},
   "source": [
    "### Problem 1.7.4"
   ]
  },
  {
   "cell_type": "code",
   "execution_count": 55,
   "metadata": {},
   "outputs": [],
   "source": [
    "def mySum(L):\n",
    "    current = 0\n",
    "    for x in L:\n",
    "        current += x\n",
    "    return current"
   ]
  },
  {
   "cell_type": "markdown",
   "metadata": {},
   "source": [
    "### Problem 1.7.5"
   ]
  },
  {
   "cell_type": "code",
   "execution_count": 56,
   "metadata": {},
   "outputs": [],
   "source": [
    "def myProduct(L):\n",
    "    current = 1\n",
    "    for x in L:\n",
    "        current *= x\n",
    "    return current"
   ]
  },
  {
   "cell_type": "markdown",
   "metadata": {},
   "source": [
    "### Problem 1.7.6"
   ]
  },
  {
   "cell_type": "code",
   "execution_count": 59,
   "metadata": {},
   "outputs": [],
   "source": [
    "def myMin(L):\n",
    "    current = float('infinity')\n",
    "    for x in L:\n",
    "        current = x if x < current else current\n",
    "    return current"
   ]
  },
  {
   "cell_type": "markdown",
   "metadata": {},
   "source": [
    "### Problem 1.7.7"
   ]
  },
  {
   "cell_type": "code",
   "execution_count": 58,
   "metadata": {},
   "outputs": [],
   "source": [
    "def myConcat(L):\n",
    "    current = ''\n",
    "    for x in L:\n",
    "        current += x\n",
    "    return current"
   ]
  },
  {
   "cell_type": "markdown",
   "metadata": {},
   "source": [
    "### Problem 1.7.8"
   ]
  },
  {
   "cell_type": "code",
   "execution_count": 60,
   "metadata": {},
   "outputs": [],
   "source": [
    "def myUnion(L):\n",
    "    current = set()\n",
    "    for x in L:\n",
    "        current = x | current\n",
    "    return current"
   ]
  },
  {
   "cell_type": "markdown",
   "metadata": {},
   "source": [
    "### Problem 1.7.9\n",
    "\n",
    "1. 0\n",
    "2. 1\n",
    "3. infinity\n",
    "4. ''\n",
    "5. set()\n",
    "\n",
    "This reasoning doesn't work with a set intersection operation because there is no universal value $i$ such that $i \\diamond x = x$. The only $i$ that would work would be $x$ itself, so it would be dependent on the input. "
   ]
  },
  {
   "cell_type": "markdown",
   "metadata": {},
   "source": [
    "### Problem 1.7.10\n",
    "\n",
    "* $(3 + 1\\mathbf{i}) + (2 + 2\\mathbf{i}) = 5 + 3\\mathbf{i}$\n",
    "* $(-1 + 2\\mathbf{i}) + (1 - 1\\mathbf{i}) = 0 + 1\\mathbf{i}$\n",
    "* $(2 + 0\\mathbf{i}) + (-3 + .001\\mathbf{i}) = -1 + 0.001\\mathbf{i}$\n",
    "* $4(0 + 2i) + (.001 + 1\\mathbf{i}) = .001 + 9\\mathbf{i}$"
   ]
  },
  {
   "cell_type": "markdown",
   "metadata": {},
   "source": [
    "### Problem 1.7.11\n",
    "\n",
    "* $e^{1\\mathbf{i}}e^{2\\mathbf{i}} = e^{3\\mathbf{i}}$\n",
    "* $e^{(\\pi/4)\\mathbf{i}}e^{(2\\pi/3)\\mathbf{i}} = e^{(11\\pi/12)\\mathbf{i}}$\n",
    "* $e^{-(\\pi/4)\\mathbf{i}}e^{(2\\pi/3)\\mathbf{i}} = e^{(5\\pi/12)\\mathbf{i}}$"
   ]
  },
  {
   "cell_type": "markdown",
   "metadata": {},
   "source": [
    "### Problem 1.7.12"
   ]
  },
  {
   "cell_type": "code",
   "execution_count": 2,
   "metadata": {},
   "outputs": [],
   "source": [
    "def transform(a, b, L):\n",
    "    '''\n",
    "    Input:\n",
    "      -a: a number\n",
    "      -b: a number\n",
    "      -L: a list of numbers\n",
    "    Output:\n",
    "      -a list of elements where each element is ax+b where x is an element in L\n",
    "    Examples:\n",
    "    >>> transform(3,2,[1,2,3])\n",
    "    [5, 8, 11]\n",
    "    '''\n",
    "    return [a*x + b for x in L]"
   ]
  },
  {
   "cell_type": "code",
   "execution_count": 3,
   "metadata": {},
   "outputs": [
    {
     "data": {
      "text/plain": [
       "[5, 8, 11]"
      ]
     },
     "execution_count": 3,
     "metadata": {},
     "output_type": "execute_result"
    }
   ],
   "source": [
    "transform(3,2,[1,2,3])"
   ]
  },
  {
   "cell_type": "markdown",
   "metadata": {},
   "source": [
    "### Problem 1.7.13\n",
    "\n",
    "* $ 1 + 1 + 1 + 0 = 1$\n",
    "* $ 1 \\cdot 1 + 0 \\cdot 1 + 0 \\cdot 0 + 1 \\cdot 1 = 0$\n",
    "* $(1 + 1 + 1) \\cdot (1 + 1 + 1 + 1) = 0$"
   ]
  }
 ],
 "metadata": {
  "kernelspec": {
   "display_name": "Python 3",
   "language": "python",
   "name": "python3"
  },
  "language_info": {
   "codemirror_mode": {
    "name": "ipython",
    "version": 3
   },
   "file_extension": ".py",
   "mimetype": "text/x-python",
   "name": "python",
   "nbconvert_exporter": "python",
   "pygments_lexer": "ipython3",
   "version": "3.5.2"
  }
 },
 "nbformat": 4,
 "nbformat_minor": 2
}
