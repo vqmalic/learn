{
 "cells": [
  {
   "cell_type": "markdown",
   "metadata": {},
   "source": [
    "Let's run with one specific example of $\\mathbf{A}$ for this chapter.\n",
    "\n",
    "$ \\mathbf{A} = \\begin{bmatrix}\n",
    "1 & 2 \\\\\n",
    "3 & 4 \\\\\n",
    "\\end{bmatrix}$"
   ]
  },
  {
   "cell_type": "code",
   "execution_count": 2,
   "metadata": {},
   "outputs": [],
   "source": [
    "import numpy as np\n",
    "A = np.array([[1, 2], [3, 4]])"
   ]
  },
  {
   "cell_type": "markdown",
   "metadata": {},
   "source": [
    "## 2.3 Identity and Inverse Matrices\n",
    "\n",
    "An identity matrix does not change the value of any vector when we multiply a vector by that matrix.\n",
    "\n",
    "An identity matrix that perserves an *n*-dimensional vector is denoted by $\\mathbf{I}_n.$\n",
    "\n",
    "Formally,\n",
    "\n",
    "$ \\forall \\mathbf{x} \\in \\mathbb{R}^n, \\mathbf{I}_n \\mathbf{x} = \\mathbf{x} $"
   ]
  },
  {
   "cell_type": "code",
   "execution_count": 4,
   "metadata": {},
   "outputs": [
    {
     "data": {
      "text/plain": [
       "array([1., 2., 3., 4.])"
      ]
     },
     "execution_count": 4,
     "metadata": {},
     "output_type": "execute_result"
    }
   ],
   "source": [
    "x = np.array([1, 2, 3, 4])\n",
    "I = np.identity(len(x))\n",
    "I.dot(x)"
   ]
  },
  {
   "cell_type": "markdown",
   "metadata": {},
   "source": [
    "The matrix inverse of $\\mathbf{A}$ is a matrix that when applied to $\\mathbf{A}$ results in the identity matrix.\n",
    "\n",
    "$\\mathbf{A}^{-1} \\mathbf{A} = \\mathbf{I}$"
   ]
  },
  {
   "cell_type": "code",
   "execution_count": 6,
   "metadata": {},
   "outputs": [
    {
     "data": {
      "text/plain": [
       "array([[1., 0.],\n",
       "       [0., 1.]])"
      ]
     },
     "execution_count": 6,
     "metadata": {},
     "output_type": "execute_result"
    }
   ],
   "source": [
    "A_inv = np.linalg.inv(A)\n",
    "np.round(A_inv.dot(A), 2)"
   ]
  },
  {
   "cell_type": "markdown",
   "metadata": {},
   "source": [
    "The inverse matrix is helpful in solving the linear system of equations $\\mathbf{A} \\mathbf{x} = \\mathbf{b}$.\n",
    "\n",
    "$\\mathbf{A} \\mathbf{x} = \\mathbf{b}$\n",
    "\n",
    "$\\mathbf{A}^{-1} \\mathbf{A} \\mathbf{x} = \\mathbf{A}^{-1} \\mathbf{b}$\n",
    "\n",
    "$\\mathbf{I}^{n} \\mathbf{x} = \\mathbf{A}^{-1} \\mathbf{b}$\n",
    "\n",
    "$\\mathbf{x} = \\mathbf{A}^{-1} \\mathbf{b}$\n",
    "\n",
    "The solution $\\mathbf{x}$ is the inverse of $\\mathbf{A}$ applied to $\\mathbf{b}$."
   ]
  },
  {
   "cell_type": "markdown",
   "metadata": {},
   "source": [
    "## 2.4 Linear Dependence and Span\n",
    "\n",
    "If the inverse of $\\mathbf{A}$ exists, then there is exactly one solution for every value of $\\mathbf{b}$.\n",
    "\n",
    "A system of equations may also have no solutions or infinitely many solutions.\n",
    "\n",
    "It is not possible for there to be more than one but less than infinitely many solutions. If two solutions existed, $\\mathbf{x}$ and $\\mathbf{y}$, then there are infinitely many solutions as \n",
    "\n",
    "$\\mathbf{z} = \\alpha \\mathbf{x} + (1-\\alpha) \\mathbf{y}$\n",
    "\n",
    "is a solution for any real $\\alpha$. In other words, if two solutions exist, you can make any infinite number of solutions."
   ]
  },
  {
   "cell_type": "code",
   "execution_count": null,
   "metadata": {},
   "outputs": [],
   "source": []
  }
 ],
 "metadata": {
  "kernelspec": {
   "display_name": "Python 3",
   "language": "python",
   "name": "python3"
  },
  "language_info": {
   "codemirror_mode": {
    "name": "ipython",
    "version": 3
   },
   "file_extension": ".py",
   "mimetype": "text/x-python",
   "name": "python",
   "nbconvert_exporter": "python",
   "pygments_lexer": "ipython3",
   "version": "3.5.2"
  }
 },
 "nbformat": 4,
 "nbformat_minor": 2
}
